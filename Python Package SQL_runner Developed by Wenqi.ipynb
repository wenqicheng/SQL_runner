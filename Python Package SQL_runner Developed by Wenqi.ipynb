{
 "cells": [
  {
   "cell_type": "markdown",
   "metadata": {},
   "source": [
    "# Introduction to Python Package SQL_runner"
   ]
  },
  {
   "cell_type": "markdown",
   "metadata": {},
   "source": [
    "## Part 1: what is SQL_runner\n",
    "SQL_runner is a Python library providing PostgreSQL adaptors and QA tools. It supports for parsing, splitting, formatting SQL scripts as well as builidng QA tools for either customized or recurring projects."
   ]
  },
  {
   "cell_type": "markdown",
   "metadata": {},
   "source": [
    "## Part 2: advantages of SQL_runner"
   ]
  },
  {
   "cell_type": "markdown",
   "metadata": {},
   "source": [
    "- Multi-Data Environments: play around different data bases from multiple data environments on a single aggregated platform\n",
    "- Convenience: everything on the same page. (SQL script, Python code, Excel, Manual Work, Comments, etc.)\n",
    "- Markdown: easy to check what you are doing/ what you have done, easy for project transition \n",
    "- Efficiency: One click to run recurring projects, no manual work needed\n",
    "- QA tools: easy to build up customized QA pipeline/tools for different projects.\n",
    "- Powerfulness: build a bridge between Ptyhon and Greenplum/Redshift/SQL_server/Snowflake, which makes it possible to leverage the whole python world(time, calendar, pandas, numpy, matplotlib, etc.)"
   ]
  },
  {
   "cell_type": "markdown",
   "metadata": {},
   "source": [
    "## Part 3: how to use SQL runner"
   ]
  },
  {
   "cell_type": "markdown",
   "metadata": {},
   "source": [
    "### Step 0: Import SQL_runner package"
   ]
  },
  {
   "cell_type": "code",
   "execution_count": 2,
   "metadata": {
    "collapsed": true
   },
   "outputs": [],
   "source": [
    "import sql_runner as sr"
   ]
  },
  {
   "cell_type": "markdown",
   "metadata": {},
   "source": [
    "### Step 1: Connect to multiple data bases in different data environments\n",
    "#### 1.1 GreenPlum - PostgreSQL"
   ]
  },
  {
   "cell_type": "code",
   "execution_count": 5,
   "metadata": {
    "collapsed": false
   },
   "outputs": [
    {
     "name": "stdout",
     "output_type": "stream",
     "text": [
      "Greenplum Database is successfully connected\n"
     ]
    }
   ],
   "source": [
    "db1 = sr.connect_db(daname = 'GP_db1', user = 'wenqi', password = 'xxx')"
   ]
  },
  {
   "cell_type": "code",
   "execution_count": 6,
   "metadata": {
    "collapsed": false
   },
   "outputs": [
    {
     "name": "stdout",
     "output_type": "stream",
     "text": [
      "Greenplum Database is successfully connected\n"
     ]
    }
   ],
   "source": [
    "db2 = sr.connect_db(daname = 'GP_db2', uesr = 'wenqi', password = 'xxx')"
   ]
  },
  {
   "cell_type": "code",
   "execution_count": 7,
   "metadata": {
    "collapsed": false
   },
   "outputs": [
    {
     "name": "stdout",
     "output_type": "stream",
     "text": [
      "Greenplum Database is successfully connected\n"
     ]
    }
   ],
   "source": [
    "db3 = sr.connect_db(daname = 'GP_db3', user = 'wenqi', password = 'xxx')"
   ]
  },
  {
   "cell_type": "markdown",
   "metadata": {},
   "source": [
    "#### 1.2 SQL Server - MySQL"
   ]
  },
  {
   "cell_type": "code",
   "execution_count": 8,
   "metadata": {
    "collapsed": false
   },
   "outputs": [
    {
     "name": "stdout",
     "output_type": "stream",
     "text": [
      "SQL_Server Database is successfully connected\n"
     ]
    }
   ],
   "source": [
    "# Windows Authentication\n",
    "db4 = ss.connect_sql_server(daname = 'SQL_Server_db1', authentication = 'windows')"
   ]
  },
  {
   "cell_type": "code",
   "execution_count": 15,
   "metadata": {
    "collapsed": false
   },
   "outputs": [
    {
     "name": "stdout",
     "output_type": "stream",
     "text": [
      "SQL_Server Database is successfully connected\n"
     ]
    }
   ],
   "source": [
    "# SQL_Server Aunthentication\n",
    "db5 = sr.connect_sql_server(dbname = 'SQL_Server_db2', authentication = 'SQL_Server', user = 'user1', password = 'xxx')"
   ]
  },
  {
   "cell_type": "markdown",
   "metadata": {},
   "source": [
    "#### 1.3 Redshift - Redshift SQL"
   ]
  },
  {
   "cell_type": "code",
   "execution_count": 16,
   "metadata": {
    "collapsed": false
   },
   "outputs": [
    {
     "name": "stdout",
     "output_type": "stream",
     "text": [
      "Redshift Database live is successfully connected\n"
     ]
    }
   ],
   "source": [
    "db6 = sr.connect_redshift(user = 'wenqi', password = 'xxx', host = 'xxxxx.db.xxxx.xxx.comscore.com', port = '5439')"
   ]
  },
  {
   "cell_type": "markdown",
   "metadata": {
    "collapsed": true
   },
   "source": [
    "### Step 2: how to make replacement and run sql script"
   ]
  },
  {
   "cell_type": "code",
   "execution_count": 17,
   "metadata": {
    "collapsed": true
   },
   "outputs": [],
   "source": [
    "# Set up script path\n",
    "folder = '\\\\\\\\csiadcai02\\\\Custom_Scripts\\\\wecheng_script_csiadcai02\\\\Demo\\\\'\n",
    "demo_script_path = folder + 'Demo_sql.sql'\n",
    "# Set up month_id\n",
    "calendar_month = '201801'"
   ]
  },
  {
   "cell_type": "code",
   "execution_count": 22,
   "metadata": {
    "collapsed": false
   },
   "outputs": [
    {
     "name": "stdout",
     "output_type": "stream",
     "text": [
      "1. The path of running script: \\\\csiadcai02\\Custom_Scripts\\wecheng_script_csiadcai02\\Demo\\Demo_sql.sql\n",
      "\n",
      "needed_replace: @VERSION\n",
      "replace_to: wenqi\n",
      "\n",
      "needed_replace: @CALENDAR_MONTH\n",
      "replace_to: 201801\n",
      "\n",
      "2. Input file: \\\\csor2gpl04\\incoming\\wecheng\\Demo\\demo_input_201801.txt\n",
      "3. Create public table: public.demo_country_table_201801_wenqi\n",
      "4. Table comscore.country_lookup is being used\n",
      "5. Grant table: public.demo_country_table_201801_wenqi\n",
      "6. Output_file: \\\\csor2gpl04\\incoming\\wecheng\\Demo\\demo_out_201801.txt\n",
      "7. Table public.demo_country_table_201801_wenqi is being used\n",
      "\n",
      "YOU ARE GOOD TO MOVE ON!\n"
     ]
    }
   ],
   "source": [
    "sr.parse_replace_execute(sql = demo_script_path,\n",
    "                         conn = db2,\n",
    "                         replace_items={'@CALENDAR_MONTH': calendar_month,\n",
    "                                        '@VERSION' : 'wenqi'},\n",
    "                         print_script = False,\n",
    "                         save_granted_public_table=False, \n",
    "                         save_granted_public_table_path='', \n",
    "                         output_last_query_string=False\n",
    "                        )"
   ]
  },
  {
   "cell_type": "markdown",
   "metadata": {},
   "source": [
    "### Step 3: how to run a single line of sql"
   ]
  },
  {
   "cell_type": "code",
   "execution_count": 48,
   "metadata": {
    "collapsed": false
   },
   "outputs": [
    {
     "data": {
      "text/html": [
       "<div>\n",
       "<table border=\"1\" class=\"dataframe\">\n",
       "  <thead>\n",
       "    <tr style=\"text-align: right;\">\n",
       "      <th></th>\n",
       "      <th>calendar_month</th>\n",
       "      <th>country_name</th>\n",
       "      <th>country_code</th>\n",
       "    </tr>\n",
       "  </thead>\n",
       "  <tbody>\n",
       "    <tr>\n",
       "      <th>0</th>\n",
       "      <td>201801</td>\n",
       "      <td>Brazil</td>\n",
       "      <td>BR</td>\n",
       "    </tr>\n",
       "    <tr>\n",
       "      <th>1</th>\n",
       "      <td>201801</td>\n",
       "      <td>France</td>\n",
       "      <td>FR</td>\n",
       "    </tr>\n",
       "    <tr>\n",
       "      <th>2</th>\n",
       "      <td>201801</td>\n",
       "      <td>Italy</td>\n",
       "      <td>IT</td>\n",
       "    </tr>\n",
       "    <tr>\n",
       "      <th>3</th>\n",
       "      <td>201801</td>\n",
       "      <td>Spain</td>\n",
       "      <td>ES</td>\n",
       "    </tr>\n",
       "    <tr>\n",
       "      <th>4</th>\n",
       "      <td>201801</td>\n",
       "      <td>Canada</td>\n",
       "      <td>CA</td>\n",
       "    </tr>\n",
       "  </tbody>\n",
       "</table>\n",
       "</div>"
      ],
      "text/plain": [
       "  calendar_month country_name country_code\n",
       "0         201801       Brazil           BR\n",
       "1         201801       France           FR\n",
       "2         201801        Italy           IT\n",
       "3         201801        Spain           ES\n",
       "4         201801       Canada           CA"
      ]
     },
     "execution_count": 48,
     "metadata": {},
     "output_type": "execute_result"
    }
   ],
   "source": [
    "sr.run_sql_query('''\n",
    "select *\n",
    "from public.demo_country_table_@CALENDAR_MONTH_@VERSION\n",
    "limit 5\n",
    "''',\n",
    "                 conn = db2, \n",
    "                 replace_items={'@CALENDAR_MONTH': calendar_month,\n",
    "                                      '@VERSION' : 'wenqi'})"
   ]
  },
  {
   "cell_type": "markdown",
   "metadata": {},
   "source": [
    "### Step 4: how to loop through multiple months"
   ]
  },
  {
   "cell_type": "code",
   "execution_count": 23,
   "metadata": {
    "collapsed": false
   },
   "outputs": [
    {
     "name": "stdout",
     "output_type": "stream",
     "text": [
      "1. The path of running script: \\\\csiadcai02\\Custom_Scripts\\wecheng_script_csiadcai02\\Demo\\Demo_sql.sql\n",
      "\n",
      "needed_replace: @VERSION\n",
      "replace_to: wenqi\n",
      "\n",
      "needed_replace: @CALENDAR_MONTH\n",
      "replace_to: 201801\n",
      "\n",
      "2. Input file: \\\\csor2gpl04\\incoming\\wecheng\\Demo\\demo_input_201801.txt\n",
      "3. Create public table: public.demo_country_table_201801_wenqi\n",
      "4. Table comscore.country_lookup is being used\n",
      "5. Grant table: public.demo_country_table_201801_wenqi\n",
      "6. Output_file: \\\\csor2gpl04\\incoming\\wecheng\\Demo\\demo_out_201801.txt\n",
      "7. Table public.demo_country_table_201801_wenqi is being used\n",
      "\n",
      "YOU ARE GOOD TO MOVE ON!\n",
      "1. The path of running script: \\\\csiadcai02\\Custom_Scripts\\wecheng_script_csiadcai02\\Demo\\Demo_sql.sql\n",
      "\n",
      "needed_replace: @VERSION\n",
      "replace_to: wenqi\n",
      "\n",
      "needed_replace: @CALENDAR_MONTH\n",
      "replace_to: 201802\n",
      "\n",
      "2. Input file: \\\\csor2gpl04\\incoming\\wecheng\\Demo\\demo_input_201802.txt\n",
      "3. Create public table: public.demo_country_table_201802_wenqi\n",
      "4. Table comscore.country_lookup is being used\n",
      "5. Grant table: public.demo_country_table_201802_wenqi\n",
      "6. Output_file: \\\\csor2gpl04\\incoming\\wecheng\\Demo\\demo_out_201802.txt\n",
      "7. Table public.demo_country_table_201802_wenqi is being used\n",
      "\n",
      "YOU ARE GOOD TO MOVE ON!\n"
     ]
    }
   ],
   "source": [
    "# loop through 2 months(201801, 201802)\n",
    "for month in range(201801,201803):\n",
    "    sr.parse_replace_execute(sql = demo_script_path,\n",
    "                            conn = db2,\n",
    "                            replace_items={'@CALENDAR_MONTH': str(month),\n",
    "                                          '@VERSION' : 'wenqi'})"
   ]
  },
  {
   "cell_type": "markdown",
   "metadata": {},
   "source": [
    "### Step 5: QA tool 1 - compare with historical data\n",
    "This function compares and find different values between 2 tables"
   ]
  },
  {
   "cell_type": "code",
   "execution_count": 69,
   "metadata": {
    "collapsed": false
   },
   "outputs": [
    {
     "name": "stdout",
     "output_type": "stream",
     "text": [
      "table1:last_month\n",
      "table2:current_month\n",
      "\n",
      "num_of_rows(last_month):9\n",
      "num_of_rows(current_month):9\n",
      "WARNING !!! CHANGES ARE AS BELOW !!!\n"
     ]
    },
    {
     "data": {
      "text/html": [
       "<div>\n",
       "<table border=\"1\" class=\"dataframe\">\n",
       "  <thead>\n",
       "    <tr style=\"text-align: right;\">\n",
       "      <th></th>\n",
       "      <th>country_name</th>\n",
       "      <th>country_code</th>\n",
       "      <th>lable</th>\n",
       "    </tr>\n",
       "  </thead>\n",
       "  <tbody>\n",
       "    <tr>\n",
       "      <th>0</th>\n",
       "      <td>Brazil</td>\n",
       "      <td>BR</td>\n",
       "      <td>last_month</td>\n",
       "    </tr>\n",
       "    <tr>\n",
       "      <th>10</th>\n",
       "      <td>China</td>\n",
       "      <td>CN</td>\n",
       "      <td>current_month</td>\n",
       "    </tr>\n",
       "    <tr>\n",
       "      <th>2</th>\n",
       "      <td>United Kingdom</td>\n",
       "      <td>GB</td>\n",
       "      <td>last_month</td>\n",
       "    </tr>\n",
       "    <tr>\n",
       "      <th>9</th>\n",
       "      <td>United Kingdom</td>\n",
       "      <td>UK</td>\n",
       "      <td>current_month</td>\n",
       "    </tr>\n",
       "  </tbody>\n",
       "</table>\n",
       "</div>"
      ],
      "text/plain": [
       "      country_name country_code          lable\n",
       "0           Brazil           BR     last_month\n",
       "10           China           CN  current_month\n",
       "2   United Kingdom           GB     last_month\n",
       "9   United Kingdom           UK  current_month"
      ]
     },
     "execution_count": 69,
     "metadata": {},
     "output_type": "execute_result"
    }
   ],
   "source": [
    "sr.compare_gp_table(table1 = 'public.demo_country_table_201801_wenqi',\n",
    "                   table2 = 'public.demo_country_table_201802_wenqi',\n",
    "                   conn = db2,\n",
    "                   columns = 'country_name, country_code',\n",
    "                   table1_name = 'last_month',\n",
    "                   table2_name = 'current_month').sort_values('country_name')"
   ]
  },
  {
   "cell_type": "markdown",
   "metadata": {},
   "source": [
    "### Step 6: QA tool 2 - calculate deltas and alert big changes\n",
    "This function calculate the changes for field total visitors between last month data and this month data. Then it list out the entities with big change( delta percentage > 20%)"
   ]
  },
  {
   "cell_type": "code",
   "execution_count": 36,
   "metadata": {
    "collapsed": false
   },
   "outputs": [
    {
     "data": {
      "text/html": [
       "<div>\n",
       "<table border=\"1\" class=\"dataframe\">\n",
       "  <thead>\n",
       "    <tr style=\"text-align: right;\">\n",
       "      <th></th>\n",
       "      <th>web_name</th>\n",
       "      <th>total_uv</th>\n",
       "      <th>total_uv_base</th>\n",
       "      <th>delta_total_uv</th>\n",
       "    </tr>\n",
       "  </thead>\n",
       "  <tbody>\n",
       "    <tr>\n",
       "      <th>12</th>\n",
       "      <td>HuffPost India</td>\n",
       "      <td>1776271.948502</td>\n",
       "      <td>1363249.451579</td>\n",
       "      <td>0.302969</td>\n",
       "    </tr>\n",
       "    <tr>\n",
       "      <th>14</th>\n",
       "      <td>HUFFINGTONPOST.DE</td>\n",
       "      <td>17028.957246</td>\n",
       "      <td>7328.424168</td>\n",
       "      <td>1.323686</td>\n",
       "    </tr>\n",
       "    <tr>\n",
       "      <th>42</th>\n",
       "      <td>HUFFINGTONPOST.COM.MX</td>\n",
       "      <td>4896.333771</td>\n",
       "      <td>9835.616896</td>\n",
       "      <td>-0.502183</td>\n",
       "    </tr>\n",
       "  </tbody>\n",
       "</table>\n",
       "</div>"
      ],
      "text/plain": [
       "                 web_name        total_uv   total_uv_base  delta_total_uv\n",
       "12         HuffPost India  1776271.948502  1363249.451579        0.302969\n",
       "14      HUFFINGTONPOST.DE    17028.957246     7328.424168        1.323686\n",
       "42  HUFFINGTONPOST.COM.MX     4896.333771     9835.616896       -0.502183"
      ]
     },
     "execution_count": 36,
     "metadata": {},
     "output_type": "execute_result"
    }
   ],
   "source": [
    "ss.compare_delta(table = 'public.entities_thismonth_final',\n",
    "                 base = 'public.entities_lastmonth_final',\n",
    "                 com_col= 'web_name',\n",
    "                 comp_col = 'total_uv',\n",
    "                 conn = db2, \n",
    "                 level = 0.2,\n",
    "                 level_col = ['total_uv'],\n",
    "                 hide = False,\n",
    "                 condition = 'where condition 1 and condition 2')"
   ]
  },
  {
   "cell_type": "markdown",
   "metadata": {},
   "source": [
    "## PART 4: Resources:  \n",
    "- Python packaged used in the SQL_runner: sqlparse [click here](https://pypi.org/project/sqlparse/), psycopg2 [click here](http://initd.org/psycopg/), pandas, etc.\n",
    "- sql scripts used in this demo [click here](https://github.com/wenqicheng/SQL_runner/blob/master/Demo_sql.sql)\n",
    "- Wenqi's Linkedin [click here](https://www.linkedin.com/in/wenqicheng/)\n",
    "- Wenqi's Github homepage [click here](https://github.com/wenqicheng)"
   ]
  }
 ],
 "metadata": {
  "anaconda-cloud": {},
  "kernelspec": {
   "display_name": "Python 3",
   "language": "python",
   "name": "python3"
  },
  "language_info": {
   "codemirror_mode": {
    "name": "ipython",
    "version": 3
   },
   "file_extension": ".py",
   "mimetype": "text/x-python",
   "name": "python",
   "nbconvert_exporter": "python",
   "pygments_lexer": "ipython3",
   "version": "3.5.1"
  }
 },
 "nbformat": 4,
 "nbformat_minor": 1
}
